{
 "cells": [
  {
   "cell_type": "markdown",
   "id": "b8c70b3e-6ec9-4841-b6f0-94be7cd69bee",
   "metadata": {},
   "source": [
    "# TASK - NAMED ENTITY RECOGNITION"
   ]
  },
  {
   "cell_type": "markdown",
   "id": "71e2ba12-1a91-4c38-925a-d86d4422595b",
   "metadata": {},
   "source": [
    "## IMPORTS"
   ]
  },
  {
   "cell_type": "code",
   "execution_count": 1,
   "id": "4ec70f4f-3dc7-4ed8-ad79-0e4dd0e9f223",
   "metadata": {},
   "outputs": [],
   "source": [
    "import pandas as pd\n",
    "import pandas as pd\n",
    "import re\n",
    "import spacy\n",
    "from nltk.corpus import stopwords\n",
    "from nltk.tokenize import word_tokenize\n",
    "import nltk\n",
    "import numpy as np\n",
    "import matplotlib.pyplot as plt\n",
    "from collections import Counter\n",
    "from sklearn.model_selection import train_test_split\n",
    "from sklearn.preprocessing import StandardScaler\n",
    "from sklearn.ensemble import RandomForestClassifier\n",
    "from sklearn.metrics import accuracy_score, classification_report, confusion_matrix"
   ]
  },
  {
   "cell_type": "code",
   "execution_count": 2,
   "id": "5cbfa88b-e009-4ce4-8246-d452053e3783",
   "metadata": {},
   "outputs": [
    {
     "name": "stderr",
     "output_type": "stream",
     "text": [
      "[nltk_data] Downloading package stopwords to\n",
      "[nltk_data]     C:\\Users\\vemul\\AppData\\Roaming\\nltk_data...\n",
      "[nltk_data]   Package stopwords is already up-to-date!\n",
      "[nltk_data] Downloading package punkt to\n",
      "[nltk_data]     C:\\Users\\vemul\\AppData\\Roaming\\nltk_data...\n",
      "[nltk_data]   Package punkt is already up-to-date!\n"
     ]
    },
    {
     "data": {
      "text/plain": [
       "True"
      ]
     },
     "execution_count": 2,
     "metadata": {},
     "output_type": "execute_result"
    }
   ],
   "source": [
    "nltk.download(\"stopwords\")\n",
    "nltk.download(\"punkt\")"
   ]
  },
  {
   "cell_type": "code",
   "execution_count": 3,
   "id": "db59ab7b-225c-47fd-b334-ac407f4b4876",
   "metadata": {},
   "outputs": [],
   "source": [
    "# ENSURING SPACY MODEL IS LOADED AND NOT CAUSING ERROR"
   ]
  },
  {
   "cell_type": "code",
   "execution_count": 4,
   "id": "a22300c7-62ca-4323-9d1c-599368766702",
   "metadata": {},
   "outputs": [],
   "source": [
    "try:\n",
    "    nlp = spacy.load(\"en_core_web_sm\")\n",
    "except OSError:\n",
    "    print(\"Downloading 'en_core_web_sm' model...\")\n",
    "    from spacy.cli import download\n",
    "    download(\"en_core_web_sm\")\n",
    "    nlp = spacy.load(\"en_core_web_sm\")"
   ]
  },
  {
   "cell_type": "code",
   "execution_count": 5,
   "id": "681eba75-7aea-4a32-97ff-a421a5529c5d",
   "metadata": {},
   "outputs": [],
   "source": [
    "# Load each dataset (assuming they are CSV files)\n",
    "gossip_fake = pd.read_csv(\"gossipcop_fake.csv\")\n",
    "gossip_real = pd.read_csv(\"gossipcop_real.csv\")\n",
    "politifact_fake = pd.read_csv(\"politifact_fake.csv\")\n",
    "politifact_real = pd.read_csv(\"politifact_real.csv\")\n",
    "\n",
    "# Add labels to each dataset\n",
    "gossip_fake[\"label\"] = \"fake\"\n",
    "gossip_real[\"label\"] = \"real\"\n",
    "politifact_fake[\"label\"] = \"fake\"\n",
    "politifact_real[\"label\"] = \"real\"\n",
    "\n",
    "# Add domain labels\n",
    "gossip_fake[\"domain\"] = \"gossip\"\n",
    "gossip_real[\"domain\"] = \"gossip\"\n",
    "politifact_fake[\"domain\"] = \"politifact\"\n",
    "politifact_real[\"domain\"] = \"politifact\""
   ]
  },
  {
   "cell_type": "code",
   "execution_count": 6,
   "id": "2c3a62e9-e082-4ce6-8fe0-215d235349ed",
   "metadata": {},
   "outputs": [],
   "source": [
    "combined_df = pd.concat([gossip_fake, gossip_real, politifact_fake, politifact_real], ignore_index=True)"
   ]
  },
  {
   "cell_type": "code",
   "execution_count": 7,
   "id": "5721a911-5b81-4f13-829d-984d9131ec0f",
   "metadata": {},
   "outputs": [
    {
     "name": "stdout",
     "output_type": "stream",
     "text": [
      "Indexe : Index(['id', 'news_url', 'title', 'tweet_ids', 'label', 'domain'], dtype='object')\n",
      "(23196, 6)\n"
     ]
    }
   ],
   "source": [
    "print(\"Indexe :\",combined_df.columns)\n",
    "print(combined_df.shape)"
   ]
  },
  {
   "cell_type": "code",
   "execution_count": 8,
   "id": "568b3589-1f49-4f06-8f19-8f7849980353",
   "metadata": {},
   "outputs": [
    {
     "data": {
      "text/html": [
       "<div>\n",
       "<style scoped>\n",
       "    .dataframe tbody tr th:only-of-type {\n",
       "        vertical-align: middle;\n",
       "    }\n",
       "\n",
       "    .dataframe tbody tr th {\n",
       "        vertical-align: top;\n",
       "    }\n",
       "\n",
       "    .dataframe thead th {\n",
       "        text-align: right;\n",
       "    }\n",
       "</style>\n",
       "<table border=\"1\" class=\"dataframe\">\n",
       "  <thead>\n",
       "    <tr style=\"text-align: right;\">\n",
       "      <th></th>\n",
       "      <th>id</th>\n",
       "      <th>news_url</th>\n",
       "      <th>title</th>\n",
       "      <th>tweet_ids</th>\n",
       "      <th>label</th>\n",
       "      <th>domain</th>\n",
       "    </tr>\n",
       "  </thead>\n",
       "  <tbody>\n",
       "    <tr>\n",
       "      <th>0</th>\n",
       "      <td>gossipcop-2493749932</td>\n",
       "      <td>www.dailymail.co.uk/tvshowbiz/article-5874213/...</td>\n",
       "      <td>Did Miley Cyrus and Liam Hemsworth secretly ge...</td>\n",
       "      <td>284329075902926848\\t284332744559968256\\t284335...</td>\n",
       "      <td>fake</td>\n",
       "      <td>gossip</td>\n",
       "    </tr>\n",
       "    <tr>\n",
       "      <th>1</th>\n",
       "      <td>gossipcop-4580247171</td>\n",
       "      <td>hollywoodlife.com/2018/05/05/paris-jackson-car...</td>\n",
       "      <td>Paris Jackson &amp; Cara Delevingne Enjoy Night Ou...</td>\n",
       "      <td>992895508267130880\\t992897935418503169\\t992899...</td>\n",
       "      <td>fake</td>\n",
       "      <td>gossip</td>\n",
       "    </tr>\n",
       "    <tr>\n",
       "      <th>2</th>\n",
       "      <td>gossipcop-941805037</td>\n",
       "      <td>variety.com/2017/biz/news/tax-march-donald-tru...</td>\n",
       "      <td>Celebrities Join Tax March in Protest of Donal...</td>\n",
       "      <td>853359353532829696\\t853359576543920128\\t853359...</td>\n",
       "      <td>fake</td>\n",
       "      <td>gossip</td>\n",
       "    </tr>\n",
       "    <tr>\n",
       "      <th>3</th>\n",
       "      <td>gossipcop-2547891536</td>\n",
       "      <td>www.dailymail.co.uk/femail/article-3499192/Do-...</td>\n",
       "      <td>Cindy Crawford's daughter Kaia Gerber wears a ...</td>\n",
       "      <td>988821905196158981\\t988824206556172288\\t988825...</td>\n",
       "      <td>fake</td>\n",
       "      <td>gossip</td>\n",
       "    </tr>\n",
       "    <tr>\n",
       "      <th>4</th>\n",
       "      <td>gossipcop-5476631226</td>\n",
       "      <td>variety.com/2018/film/news/list-2018-oscar-nom...</td>\n",
       "      <td>Full List of 2018 Oscar Nominations – Variety</td>\n",
       "      <td>955792793632432131\\t955795063925301249\\t955798...</td>\n",
       "      <td>fake</td>\n",
       "      <td>gossip</td>\n",
       "    </tr>\n",
       "    <tr>\n",
       "      <th>...</th>\n",
       "      <td>...</td>\n",
       "      <td>...</td>\n",
       "      <td>...</td>\n",
       "      <td>...</td>\n",
       "      <td>...</td>\n",
       "      <td>...</td>\n",
       "    </tr>\n",
       "    <tr>\n",
       "      <th>23191</th>\n",
       "      <td>politifact14731</td>\n",
       "      <td>https://www.flake.senate.gov/public/index.cfm/...</td>\n",
       "      <td>Flake: “Religious tests should have no place i...</td>\n",
       "      <td>NaN</td>\n",
       "      <td>real</td>\n",
       "      <td>politifact</td>\n",
       "    </tr>\n",
       "    <tr>\n",
       "      <th>23192</th>\n",
       "      <td>politifact329</td>\n",
       "      <td>https://web.archive.org/web/20080131000131/htt...</td>\n",
       "      <td>Change We Can Believe In</td>\n",
       "      <td>634287923135909888\\t946743411100536832\\t946816...</td>\n",
       "      <td>real</td>\n",
       "      <td>politifact</td>\n",
       "    </tr>\n",
       "    <tr>\n",
       "      <th>23193</th>\n",
       "      <td>politifact1576</td>\n",
       "      <td>http://www.youtube.com/watch?v=4O8CxZ1OD58</td>\n",
       "      <td>deputy director of national health statistics ...</td>\n",
       "      <td>NaN</td>\n",
       "      <td>real</td>\n",
       "      <td>politifact</td>\n",
       "    </tr>\n",
       "    <tr>\n",
       "      <th>23194</th>\n",
       "      <td>politifact4720</td>\n",
       "      <td>http://www.youtube.com/watch?v=EhyMplwY6HY</td>\n",
       "      <td>Romneys ProLife Conversion Myth or Reality Jun...</td>\n",
       "      <td>188871706637647874</td>\n",
       "      <td>real</td>\n",
       "      <td>politifact</td>\n",
       "    </tr>\n",
       "    <tr>\n",
       "      <th>23195</th>\n",
       "      <td>politifact52</td>\n",
       "      <td>https://web.archive.org/web/20071102131244/htt...</td>\n",
       "      <td>Interest Group Ratings</td>\n",
       "      <td>1002208963239337984\\t1024651239697666048</td>\n",
       "      <td>real</td>\n",
       "      <td>politifact</td>\n",
       "    </tr>\n",
       "  </tbody>\n",
       "</table>\n",
       "<p>23196 rows × 6 columns</p>\n",
       "</div>"
      ],
      "text/plain": [
       "                         id  \\\n",
       "0      gossipcop-2493749932   \n",
       "1      gossipcop-4580247171   \n",
       "2       gossipcop-941805037   \n",
       "3      gossipcop-2547891536   \n",
       "4      gossipcop-5476631226   \n",
       "...                     ...   \n",
       "23191       politifact14731   \n",
       "23192         politifact329   \n",
       "23193        politifact1576   \n",
       "23194        politifact4720   \n",
       "23195          politifact52   \n",
       "\n",
       "                                                news_url  \\\n",
       "0      www.dailymail.co.uk/tvshowbiz/article-5874213/...   \n",
       "1      hollywoodlife.com/2018/05/05/paris-jackson-car...   \n",
       "2      variety.com/2017/biz/news/tax-march-donald-tru...   \n",
       "3      www.dailymail.co.uk/femail/article-3499192/Do-...   \n",
       "4      variety.com/2018/film/news/list-2018-oscar-nom...   \n",
       "...                                                  ...   \n",
       "23191  https://www.flake.senate.gov/public/index.cfm/...   \n",
       "23192  https://web.archive.org/web/20080131000131/htt...   \n",
       "23193         http://www.youtube.com/watch?v=4O8CxZ1OD58   \n",
       "23194         http://www.youtube.com/watch?v=EhyMplwY6HY   \n",
       "23195  https://web.archive.org/web/20071102131244/htt...   \n",
       "\n",
       "                                                   title  \\\n",
       "0      Did Miley Cyrus and Liam Hemsworth secretly ge...   \n",
       "1      Paris Jackson & Cara Delevingne Enjoy Night Ou...   \n",
       "2      Celebrities Join Tax March in Protest of Donal...   \n",
       "3      Cindy Crawford's daughter Kaia Gerber wears a ...   \n",
       "4          Full List of 2018 Oscar Nominations – Variety   \n",
       "...                                                  ...   \n",
       "23191  Flake: “Religious tests should have no place i...   \n",
       "23192                           Change We Can Believe In   \n",
       "23193  deputy director of national health statistics ...   \n",
       "23194  Romneys ProLife Conversion Myth or Reality Jun...   \n",
       "23195                             Interest Group Ratings   \n",
       "\n",
       "                                               tweet_ids label      domain  \n",
       "0      284329075902926848\\t284332744559968256\\t284335...  fake      gossip  \n",
       "1      992895508267130880\\t992897935418503169\\t992899...  fake      gossip  \n",
       "2      853359353532829696\\t853359576543920128\\t853359...  fake      gossip  \n",
       "3      988821905196158981\\t988824206556172288\\t988825...  fake      gossip  \n",
       "4      955792793632432131\\t955795063925301249\\t955798...  fake      gossip  \n",
       "...                                                  ...   ...         ...  \n",
       "23191                                                NaN  real  politifact  \n",
       "23192  634287923135909888\\t946743411100536832\\t946816...  real  politifact  \n",
       "23193                                                NaN  real  politifact  \n",
       "23194                                 188871706637647874  real  politifact  \n",
       "23195           1002208963239337984\\t1024651239697666048  real  politifact  \n",
       "\n",
       "[23196 rows x 6 columns]"
      ]
     },
     "execution_count": 8,
     "metadata": {},
     "output_type": "execute_result"
    }
   ],
   "source": [
    "combined_df"
   ]
  },
  {
   "cell_type": "code",
   "execution_count": 9,
   "id": "96f2da32-b0ac-4fdc-a383-786fb8016f54",
   "metadata": {},
   "outputs": [],
   "source": [
    "stop_words = set(stopwords.words(\"english\"))"
   ]
  },
  {
   "cell_type": "markdown",
   "id": "b25be2f9-22eb-442c-8cd2-f3cc99d38cbe",
   "metadata": {},
   "source": [
    "## Removing Null Values"
   ]
  },
  {
   "cell_type": "code",
   "execution_count": 10,
   "id": "6e34cf9c-b25a-4cf2-8ccb-fde32b6d96d0",
   "metadata": {},
   "outputs": [
    {
     "name": "stdout",
     "output_type": "stream",
     "text": [
      "(21407, 6)\n"
     ]
    }
   ],
   "source": [
    "df = combined_df.dropna()\n",
    "print(df.shape)"
   ]
  },
  {
   "cell_type": "markdown",
   "id": "a50fa14f-0b42-4c13-b076-aa4a2e0709e2",
   "metadata": {},
   "source": [
    "## TEXT PREPROCESSING"
   ]
  },
  {
   "cell_type": "code",
   "execution_count": 11,
   "id": "84a998ec-cf6f-4f86-b384-d172876bcf99",
   "metadata": {},
   "outputs": [],
   "source": [
    "def preprocess_text(text):\n",
    "    # 1. Remove HTML tags\n",
    "    text = re.sub(r\"<.*?>\", \" \", text)\n",
    "    # 2. Remove special characters and punctuation (retain alphanumeric and whitespace)\n",
    "    text = re.sub(r\"[^a-zA-Z0-9\\s]\", \" \", text)\n",
    "    # 3. Convert to lowercase\n",
    "    text = text.lower().strip()\n",
    "    # 4. Remove extra whitespace\n",
    "    text = re.sub(r\"\\s+\", \" \", text)\n",
    "    # 5. Tokenize text\n",
    "    tokens = word_tokenize(text)\n",
    "    # 6. Remove stop words\n",
    "    tokens = [word for word in tokens if word not in stop_words]\n",
    "    doc = nlp(\" \".join(tokens))\n",
    "    lemmatized_tokens = [token.lemma_ for token in doc]\n",
    "    \n",
    "    # Return cleaned and lemmatized text as a single string\n",
    "    return \" \".join(lemmatized_tokens)\n"
   ]
  },
  {
   "cell_type": "code",
   "execution_count": 12,
   "id": "cf0f4db2-f0d6-430d-895e-b65ce2b13dce",
   "metadata": {},
   "outputs": [
    {
     "name": "stderr",
     "output_type": "stream",
     "text": [
      "C:\\Users\\vemul\\AppData\\Local\\Temp\\ipykernel_14320\\1018924059.py:1: SettingWithCopyWarning: \n",
      "A value is trying to be set on a copy of a slice from a DataFrame.\n",
      "Try using .loc[row_indexer,col_indexer] = value instead\n",
      "\n",
      "See the caveats in the documentation: https://pandas.pydata.org/pandas-docs/stable/user_guide/indexing.html#returning-a-view-versus-a-copy\n",
      "  df[\"title_clean\"] = df[\"title\"].apply(preprocess_text)\n",
      "C:\\Users\\vemul\\AppData\\Local\\Temp\\ipykernel_14320\\1018924059.py:2: SettingWithCopyWarning: \n",
      "A value is trying to be set on a copy of a slice from a DataFrame.\n",
      "Try using .loc[row_indexer,col_indexer] = value instead\n",
      "\n",
      "See the caveats in the documentation: https://pandas.pydata.org/pandas-docs/stable/user_guide/indexing.html#returning-a-view-versus-a-copy\n",
      "  df[\"url_clean\"] = df[\"news_url\"].apply(preprocess_text)\n"
     ]
    }
   ],
   "source": [
    "df[\"title_clean\"] = df[\"title\"].apply(preprocess_text)\n",
    "df[\"url_clean\"] = df[\"news_url\"].apply(preprocess_text)"
   ]
  },
  {
   "cell_type": "code",
   "execution_count": 13,
   "id": "933a3e95-95a9-487e-856a-66ec72403340",
   "metadata": {},
   "outputs": [
    {
     "name": "stderr",
     "output_type": "stream",
     "text": [
      "C:\\Users\\vemul\\AppData\\Local\\Temp\\ipykernel_14320\\647534437.py:1: SettingWithCopyWarning: \n",
      "A value is trying to be set on a copy of a slice from a DataFrame.\n",
      "Try using .loc[row_indexer,col_indexer] = value instead\n",
      "\n",
      "See the caveats in the documentation: https://pandas.pydata.org/pandas-docs/stable/user_guide/indexing.html#returning-a-view-versus-a-copy\n",
      "  df['popularity'] = df['tweet_ids'].apply(lambda x: len(x.split('\\t')))\n"
     ]
    }
   ],
   "source": [
    "df['popularity'] = df['tweet_ids'].apply(lambda x: len(x.split('\\t')))"
   ]
  },
  {
   "cell_type": "code",
   "execution_count": 14,
   "id": "e76cff2e-0ba4-446d-b4b9-92a81b937bcc",
   "metadata": {},
   "outputs": [
    {
     "data": {
      "text/html": [
       "<div>\n",
       "<style scoped>\n",
       "    .dataframe tbody tr th:only-of-type {\n",
       "        vertical-align: middle;\n",
       "    }\n",
       "\n",
       "    .dataframe tbody tr th {\n",
       "        vertical-align: top;\n",
       "    }\n",
       "\n",
       "    .dataframe thead th {\n",
       "        text-align: right;\n",
       "    }\n",
       "</style>\n",
       "<table border=\"1\" class=\"dataframe\">\n",
       "  <thead>\n",
       "    <tr style=\"text-align: right;\">\n",
       "      <th></th>\n",
       "      <th>id</th>\n",
       "      <th>news_url</th>\n",
       "      <th>title</th>\n",
       "      <th>tweet_ids</th>\n",
       "      <th>label</th>\n",
       "      <th>domain</th>\n",
       "      <th>title_clean</th>\n",
       "      <th>url_clean</th>\n",
       "      <th>popularity</th>\n",
       "    </tr>\n",
       "  </thead>\n",
       "  <tbody>\n",
       "    <tr>\n",
       "      <th>0</th>\n",
       "      <td>gossipcop-2493749932</td>\n",
       "      <td>www.dailymail.co.uk/tvshowbiz/article-5874213/...</td>\n",
       "      <td>Did Miley Cyrus and Liam Hemsworth secretly ge...</td>\n",
       "      <td>284329075902926848\\t284332744559968256\\t284335...</td>\n",
       "      <td>fake</td>\n",
       "      <td>gossip</td>\n",
       "      <td>miley cyrus liam hemsworth secretly get marry</td>\n",
       "      <td>www dailymail co uk tvshowbiz article 5874213 ...</td>\n",
       "      <td>97</td>\n",
       "    </tr>\n",
       "    <tr>\n",
       "      <th>1</th>\n",
       "      <td>gossipcop-4580247171</td>\n",
       "      <td>hollywoodlife.com/2018/05/05/paris-jackson-car...</td>\n",
       "      <td>Paris Jackson &amp; Cara Delevingne Enjoy Night Ou...</td>\n",
       "      <td>992895508267130880\\t992897935418503169\\t992899...</td>\n",
       "      <td>fake</td>\n",
       "      <td>gossip</td>\n",
       "      <td>paris jackson cara delevingne enjoy night matc...</td>\n",
       "      <td>hollywoodlife com 2018 05 05 paris jackson car...</td>\n",
       "      <td>15</td>\n",
       "    </tr>\n",
       "    <tr>\n",
       "      <th>2</th>\n",
       "      <td>gossipcop-941805037</td>\n",
       "      <td>variety.com/2017/biz/news/tax-march-donald-tru...</td>\n",
       "      <td>Celebrities Join Tax March in Protest of Donal...</td>\n",
       "      <td>853359353532829696\\t853359576543920128\\t853359...</td>\n",
       "      <td>fake</td>\n",
       "      <td>gossip</td>\n",
       "      <td>celebrity join tax march protest donald trump</td>\n",
       "      <td>variety com 2017 biz news tax march donald tru...</td>\n",
       "      <td>86</td>\n",
       "    </tr>\n",
       "    <tr>\n",
       "      <th>3</th>\n",
       "      <td>gossipcop-2547891536</td>\n",
       "      <td>www.dailymail.co.uk/femail/article-3499192/Do-...</td>\n",
       "      <td>Cindy Crawford's daughter Kaia Gerber wears a ...</td>\n",
       "      <td>988821905196158981\\t988824206556172288\\t988825...</td>\n",
       "      <td>fake</td>\n",
       "      <td>gossip</td>\n",
       "      <td>cindy crawford daughter kaia gerber wear wig d...</td>\n",
       "      <td>www dailymail co uk femail article 3499192 blo...</td>\n",
       "      <td>14</td>\n",
       "    </tr>\n",
       "    <tr>\n",
       "      <th>4</th>\n",
       "      <td>gossipcop-5476631226</td>\n",
       "      <td>variety.com/2018/film/news/list-2018-oscar-nom...</td>\n",
       "      <td>Full List of 2018 Oscar Nominations – Variety</td>\n",
       "      <td>955792793632432131\\t955795063925301249\\t955798...</td>\n",
       "      <td>fake</td>\n",
       "      <td>gossip</td>\n",
       "      <td>full list 2018 oscar nomination variety</td>\n",
       "      <td>variety com 2018 film news list 2018 oscar nom...</td>\n",
       "      <td>66</td>\n",
       "    </tr>\n",
       "    <tr>\n",
       "      <th>...</th>\n",
       "      <td>...</td>\n",
       "      <td>...</td>\n",
       "      <td>...</td>\n",
       "      <td>...</td>\n",
       "      <td>...</td>\n",
       "      <td>...</td>\n",
       "      <td>...</td>\n",
       "      <td>...</td>\n",
       "      <td>...</td>\n",
       "    </tr>\n",
       "    <tr>\n",
       "      <th>23189</th>\n",
       "      <td>politifact6931</td>\n",
       "      <td>http://www.politifact.com/truth-o-meter/promis...</td>\n",
       "      <td>The Obameter: Introduce a comprehensive immigr...</td>\n",
       "      <td>21096374968\\t21096771824\\t9413452992876544\\t12...</td>\n",
       "      <td>real</td>\n",
       "      <td>politifact</td>\n",
       "      <td>obameter introduce comprehensive immigration b...</td>\n",
       "      <td>http www politifact com truth meter promise ob...</td>\n",
       "      <td>137</td>\n",
       "    </tr>\n",
       "    <tr>\n",
       "      <th>23190</th>\n",
       "      <td>politifact13619</td>\n",
       "      <td>http://www.cnn.com/2017/01/05/politics/border-...</td>\n",
       "      <td>Trump asking Congress, not Mexico, to pay for ...</td>\n",
       "      <td>817357495047979008\\t817357627566985217\\t817357...</td>\n",
       "      <td>real</td>\n",
       "      <td>politifact</td>\n",
       "      <td>trump ask congress mexico pay border wall</td>\n",
       "      <td>http www cnn com 2017 01 05 politic border wal...</td>\n",
       "      <td>976</td>\n",
       "    </tr>\n",
       "    <tr>\n",
       "      <th>23192</th>\n",
       "      <td>politifact329</td>\n",
       "      <td>https://web.archive.org/web/20080131000131/htt...</td>\n",
       "      <td>Change We Can Believe In</td>\n",
       "      <td>634287923135909888\\t946743411100536832\\t946816...</td>\n",
       "      <td>real</td>\n",
       "      <td>politifact</td>\n",
       "      <td>change believe</td>\n",
       "      <td>https web archive org web 20080131000131 http ...</td>\n",
       "      <td>182</td>\n",
       "    </tr>\n",
       "    <tr>\n",
       "      <th>23194</th>\n",
       "      <td>politifact4720</td>\n",
       "      <td>http://www.youtube.com/watch?v=EhyMplwY6HY</td>\n",
       "      <td>Romneys ProLife Conversion Myth or Reality Jun...</td>\n",
       "      <td>188871706637647874</td>\n",
       "      <td>real</td>\n",
       "      <td>politifact</td>\n",
       "      <td>romney prolife conversion myth reality june 14</td>\n",
       "      <td>http www youtube com watch v ehymplwy6hy</td>\n",
       "      <td>1</td>\n",
       "    </tr>\n",
       "    <tr>\n",
       "      <th>23195</th>\n",
       "      <td>politifact52</td>\n",
       "      <td>https://web.archive.org/web/20071102131244/htt...</td>\n",
       "      <td>Interest Group Ratings</td>\n",
       "      <td>1002208963239337984\\t1024651239697666048</td>\n",
       "      <td>real</td>\n",
       "      <td>politifact</td>\n",
       "      <td>interest group rating</td>\n",
       "      <td>https web archive org web 20071102131244 http ...</td>\n",
       "      <td>2</td>\n",
       "    </tr>\n",
       "  </tbody>\n",
       "</table>\n",
       "<p>21407 rows × 9 columns</p>\n",
       "</div>"
      ],
      "text/plain": [
       "                         id  \\\n",
       "0      gossipcop-2493749932   \n",
       "1      gossipcop-4580247171   \n",
       "2       gossipcop-941805037   \n",
       "3      gossipcop-2547891536   \n",
       "4      gossipcop-5476631226   \n",
       "...                     ...   \n",
       "23189        politifact6931   \n",
       "23190       politifact13619   \n",
       "23192         politifact329   \n",
       "23194        politifact4720   \n",
       "23195          politifact52   \n",
       "\n",
       "                                                news_url  \\\n",
       "0      www.dailymail.co.uk/tvshowbiz/article-5874213/...   \n",
       "1      hollywoodlife.com/2018/05/05/paris-jackson-car...   \n",
       "2      variety.com/2017/biz/news/tax-march-donald-tru...   \n",
       "3      www.dailymail.co.uk/femail/article-3499192/Do-...   \n",
       "4      variety.com/2018/film/news/list-2018-oscar-nom...   \n",
       "...                                                  ...   \n",
       "23189  http://www.politifact.com/truth-o-meter/promis...   \n",
       "23190  http://www.cnn.com/2017/01/05/politics/border-...   \n",
       "23192  https://web.archive.org/web/20080131000131/htt...   \n",
       "23194         http://www.youtube.com/watch?v=EhyMplwY6HY   \n",
       "23195  https://web.archive.org/web/20071102131244/htt...   \n",
       "\n",
       "                                                   title  \\\n",
       "0      Did Miley Cyrus and Liam Hemsworth secretly ge...   \n",
       "1      Paris Jackson & Cara Delevingne Enjoy Night Ou...   \n",
       "2      Celebrities Join Tax March in Protest of Donal...   \n",
       "3      Cindy Crawford's daughter Kaia Gerber wears a ...   \n",
       "4          Full List of 2018 Oscar Nominations – Variety   \n",
       "...                                                  ...   \n",
       "23189  The Obameter: Introduce a comprehensive immigr...   \n",
       "23190  Trump asking Congress, not Mexico, to pay for ...   \n",
       "23192                           Change We Can Believe In   \n",
       "23194  Romneys ProLife Conversion Myth or Reality Jun...   \n",
       "23195                             Interest Group Ratings   \n",
       "\n",
       "                                               tweet_ids label      domain  \\\n",
       "0      284329075902926848\\t284332744559968256\\t284335...  fake      gossip   \n",
       "1      992895508267130880\\t992897935418503169\\t992899...  fake      gossip   \n",
       "2      853359353532829696\\t853359576543920128\\t853359...  fake      gossip   \n",
       "3      988821905196158981\\t988824206556172288\\t988825...  fake      gossip   \n",
       "4      955792793632432131\\t955795063925301249\\t955798...  fake      gossip   \n",
       "...                                                  ...   ...         ...   \n",
       "23189  21096374968\\t21096771824\\t9413452992876544\\t12...  real  politifact   \n",
       "23190  817357495047979008\\t817357627566985217\\t817357...  real  politifact   \n",
       "23192  634287923135909888\\t946743411100536832\\t946816...  real  politifact   \n",
       "23194                                 188871706637647874  real  politifact   \n",
       "23195           1002208963239337984\\t1024651239697666048  real  politifact   \n",
       "\n",
       "                                             title_clean  \\\n",
       "0          miley cyrus liam hemsworth secretly get marry   \n",
       "1      paris jackson cara delevingne enjoy night matc...   \n",
       "2          celebrity join tax march protest donald trump   \n",
       "3      cindy crawford daughter kaia gerber wear wig d...   \n",
       "4                full list 2018 oscar nomination variety   \n",
       "...                                                  ...   \n",
       "23189  obameter introduce comprehensive immigration b...   \n",
       "23190          trump ask congress mexico pay border wall   \n",
       "23192                                     change believe   \n",
       "23194     romney prolife conversion myth reality june 14   \n",
       "23195                              interest group rating   \n",
       "\n",
       "                                               url_clean  popularity  \n",
       "0      www dailymail co uk tvshowbiz article 5874213 ...          97  \n",
       "1      hollywoodlife com 2018 05 05 paris jackson car...          15  \n",
       "2      variety com 2017 biz news tax march donald tru...          86  \n",
       "3      www dailymail co uk femail article 3499192 blo...          14  \n",
       "4      variety com 2018 film news list 2018 oscar nom...          66  \n",
       "...                                                  ...         ...  \n",
       "23189  http www politifact com truth meter promise ob...         137  \n",
       "23190  http www cnn com 2017 01 05 politic border wal...         976  \n",
       "23192  https web archive org web 20080131000131 http ...         182  \n",
       "23194           http www youtube com watch v ehymplwy6hy           1  \n",
       "23195  https web archive org web 20071102131244 http ...           2  \n",
       "\n",
       "[21407 rows x 9 columns]"
      ]
     },
     "execution_count": 14,
     "metadata": {},
     "output_type": "execute_result"
    }
   ],
   "source": [
    "df"
   ]
  },
  {
   "cell_type": "code",
   "execution_count": 15,
   "id": "51076e39-4b9f-4787-bd9c-29ea22be1e71",
   "metadata": {},
   "outputs": [
    {
     "data": {
      "text/plain": [
       "(21407, 9)"
      ]
     },
     "execution_count": 15,
     "metadata": {},
     "output_type": "execute_result"
    }
   ],
   "source": [
    "df.shape"
   ]
  },
  {
   "cell_type": "code",
   "execution_count": 16,
   "id": "fc58e0a8-0b32-439d-b268-6240c6eede49",
   "metadata": {},
   "outputs": [],
   "source": [
    "popular_articles = df[df['popularity'] > 30]  # Articles with more than 30 tweet IDs"
   ]
  },
  {
   "cell_type": "code",
   "execution_count": 17,
   "id": "5eb0ba36-d719-4d80-8243-4ff76d2cd8a6",
   "metadata": {},
   "outputs": [
    {
     "data": {
      "text/plain": [
       "(12537, 9)"
      ]
     },
     "execution_count": 17,
     "metadata": {},
     "output_type": "execute_result"
    }
   ],
   "source": [
    "popular_articles.shape"
   ]
  },
  {
   "cell_type": "code",
   "execution_count": 18,
   "id": "ba9c6e80-ecb6-4070-81af-b6caa7ec7f7c",
   "metadata": {},
   "outputs": [
    {
     "data": {
      "image/png": "[encoded data removed]",
      "text/plain": [
       "<Figure size 640x480 with 1 Axes>"
      ]
     },
     "metadata": {},
     "output_type": "display_data"
    }
   ],
   "source": [
    "# Plot the distribution of popularity (tweet count)\n",
    "plt.hist(df['popularity'], bins=50, color='blue', edgecolor='black')\n",
    "plt.title('Popularity Distribution (Tweet Count)')\n",
    "plt.xlabel('Tweet Count')\n",
    "plt.ylabel('Number of Articles')\n",
    "plt.show()"
   ]
  },
  {
   "cell_type": "code",
   "execution_count": 19,
   "id": "a48a802b-4a04-45d6-9278-de360b97bac7",
   "metadata": {},
   "outputs": [
    {
     "name": "stderr",
     "output_type": "stream",
     "text": [
      "C:\\Users\\vemul\\AppData\\Local\\Temp\\ipykernel_14320\\1320383454.py:1: SettingWithCopyWarning: \n",
      "A value is trying to be set on a copy of a slice from a DataFrame.\n",
      "Try using .loc[row_indexer,col_indexer] = value instead\n",
      "\n",
      "See the caveats in the documentation: https://pandas.pydata.org/pandas-docs/stable/user_guide/indexing.html#returning-a-view-versus-a-copy\n",
      "  df['label_numeric'] = df['label'].apply(lambda x: 1 if x == 'real' else 0)  # 'real' = 1, 'fake' = 0\n"
     ]
    }
   ],
   "source": [
    "df['label_numeric'] = df['label'].apply(lambda x: 1 if x == 'real' else 0)  # 'real' = 1, 'fake' = 0"
   ]
  },
  {
   "cell_type": "markdown",
   "id": "520d395e-882f-4983-ab52-95c83ce94db4",
   "metadata": {},
   "source": [
    "### NER ( NAMED ENTITY RECOGNITION)"
   ]
  },
  {
   "cell_type": "code",
   "execution_count": 20,
   "id": "8fb09369-66de-4a17-885c-b67f59454dae",
   "metadata": {},
   "outputs": [
    {
     "name": "stderr",
     "output_type": "stream",
     "text": [
      "C:\\Users\\vemul\\AppData\\Local\\Temp\\ipykernel_14320\\1337953251.py:4: SettingWithCopyWarning: \n",
      "A value is trying to be set on a copy of a slice from a DataFrame.\n",
      "Try using .loc[row_indexer,col_indexer] = value instead\n",
      "\n",
      "See the caveats in the documentation: https://pandas.pydata.org/pandas-docs/stable/user_guide/indexing.html#returning-a-view-versus-a-copy\n",
      "  df['named_entities'] = df['title_clean'].apply(extract_named_entities)\n"
     ]
    }
   ],
   "source": [
    "def extract_named_entities(title):\n",
    "    doc = nlp(title)\n",
    "    return [ent.text for ent in doc.ents]\n",
    "df['named_entities'] = df['title_clean'].apply(extract_named_entities)"
   ]
  },
  {
   "cell_type": "code",
   "execution_count": 21,
   "id": "e94fdfe4-a24b-4b9a-9eb7-9140fb615fae",
   "metadata": {},
   "outputs": [
    {
     "name": "stdout",
     "output_type": "stream",
     "text": [
      "Correlation between Popularity and Fake/Real News:\n",
      "               popularity  label_numeric\n",
      "popularity       1.000000      -0.052765\n",
      "label_numeric   -0.052765       1.000000\n"
     ]
    }
   ],
   "source": [
    "correlation = df[['popularity', 'label_numeric']].corr()\n",
    "\n",
    "# Display the correlation\n",
    "print(\"Correlation between Popularity and Fake/Real News:\")\n",
    "print(correlation)\n"
   ]
  },
  {
   "cell_type": "markdown",
   "id": "bcdacac5-42cf-408e-ab4b-8f0bac21390a",
   "metadata": {},
   "source": [
    "# BAR CHART REPRESENTING POPULARITY"
   ]
  },
  {
   "cell_type": "code",
   "execution_count": 22,
   "id": "3505cab3-d90e-4cfc-a831-56b9565794cd",
   "metadata": {},
   "outputs": [
    {
     "data": {
      "image/png": "[encoded data removed]",
      "text/plain": [
       "<Figure size 800x600 with 1 Axes>"
      ]
     },
     "metadata": {},
     "output_type": "display_data"
    }
   ],
   "source": [
    "plt.figure(figsize=(8, 6))\n",
    "df.groupby('label')['popularity'].mean().plot(kind='bar', color=['green', 'red'])\n",
    "plt.title('Average Popularity of Real vs Fake News')\n",
    "plt.xlabel('News Type')\n",
    "plt.ylabel('Average Popularity (Tweet Count)')\n",
    "plt.xticks(rotation=0)\n",
    "plt.show()"
   ]
  },
  {
   "cell_type": "code",
   "execution_count": 23,
   "id": "c4c061a2-1c7e-47e3-a010-2ed19f0b2b5f",
   "metadata": {},
   "outputs": [
    {
     "name": "stderr",
     "output_type": "stream",
     "text": [
      "C:\\Users\\vemul\\AppData\\Local\\Temp\\ipykernel_14320\\3454903016.py:1: SettingWithCopyWarning: \n",
      "A value is trying to be set on a copy of a slice from a DataFrame.\n",
      "Try using .loc[row_indexer,col_indexer] = value instead\n",
      "\n",
      "See the caveats in the documentation: https://pandas.pydata.org/pandas-docs/stable/user_guide/indexing.html#returning-a-view-versus-a-copy\n",
      "  df['num_named_entities'] = df['named_entities'].apply(len)\n"
     ]
    }
   ],
   "source": [
    "df['num_named_entities'] = df['named_entities'].apply(len)"
   ]
  },
  {
   "cell_type": "code",
   "execution_count": 24,
   "id": "927b6395-7438-4634-aab1-b41d4033708a",
   "metadata": {},
   "outputs": [
    {
     "data": {
      "image/png": "[encoded data removed]",
      "text/plain": [
       "<Figure size 800x600 with 1 Axes>"
      ]
     },
     "metadata": {},
     "output_type": "display_data"
    }
   ],
   "source": [
    "plt.figure(figsize=(8, 6))\n",
    "plt.scatter(df['num_named_entities'], df['popularity'], alpha=0.5, color='blue')\n",
    "plt.title('Named Entities vs Popularity (Tweet Count)')\n",
    "plt.xlabel('Number of Named Entities')\n",
    "plt.ylabel('Popularity (Tweet Count)')\n",
    "plt.show()"
   ]
  },
  {
   "cell_type": "code",
   "execution_count": 25,
   "id": "9d88f110-23ad-49c4-88f3-d123eb3ac668",
   "metadata": {},
   "outputs": [],
   "source": [
    "# CORRELATION MATRIX"
   ]
  },
  {
   "cell_type": "code",
   "execution_count": 26,
   "id": "2e97850a-33f2-45aa-adcc-865f72167021",
   "metadata": {},
   "outputs": [
    {
     "name": "stderr",
     "output_type": "stream",
     "text": [
      "C:\\Users\\vemul\\AppData\\Local\\Temp\\ipykernel_14320\\3174206407.py:10: UserWarning: This figure includes Axes that are not compatible with tight_layout, so results might be incorrect.\n",
      "  plt.tight_layout()\n"
     ]
    },
    {
     "data": {
      "image/png": "[encoded data removed]",
      "text/plain": [
       "<Figure size 800x600 with 2 Axes>"
      ]
     },
     "metadata": {},
     "output_type": "display_data"
    }
   ],
   "source": [
    "corr_matrix = df[['num_named_entities', 'popularity', 'label_numeric']].corr()\n",
    "\n",
    "# Plot heatmap\n",
    "plt.figure(figsize=(8, 6))\n",
    "plt.matshow(corr_matrix, cmap='coolwarm', fignum=1)\n",
    "plt.colorbar()\n",
    "plt.title('Correlation Heatmap: Named Entities, Popularity, and News Type')\n",
    "plt.xticks([0, 1, 2], ['Named Entities', 'Popularity', 'Label (Fake/Real)'])\n",
    "plt.yticks([0, 1, 2], ['Named Entities', 'Popularity', 'Label (Fake/Real)'])\n",
    "plt.tight_layout()\n",
    "plt.show()"
   ]
  },
  {
   "cell_type": "markdown",
   "id": "ac5d9104-9804-4151-889b-8e6495265fc8",
   "metadata": {},
   "source": [
    "### THESE ARE BASIC ALGORITHMS TO CREATE A MODEL FOR REPRESENTING DATA OF THIS FORMAT"
   ]
  },
  {
   "cell_type": "markdown",
   "id": "cf0662b6-f305-4295-abf1-2c9c04a157bc",
   "metadata": {},
   "source": [
    "# USING RANDOMFOREST"
   ]
  },
  {
   "cell_type": "code",
   "execution_count": 27,
   "id": "e7cd42c2-5abc-4f67-bfa9-1d3c651e1957",
   "metadata": {},
   "outputs": [],
   "source": [
    "X = df[['popularity', 'num_named_entities']] \n",
    "# Features: popularity, number of named entities\n",
    "y = df['label_numeric']  \n",
    "# Target: real (1) or fake (0)\n",
    "\n",
    "X_train, X_test, y_train, y_test = train_test_split(X, y, test_size=0.3, random_state=5)"
   ]
  },
  {
   "cell_type": "code",
   "execution_count": 28,
   "id": "3fba345e-bcd6-41b0-bd77-96dca7de952a",
   "metadata": {},
   "outputs": [
    {
     "name": "stdout",
     "output_type": "stream",
     "text": [
      "Accuracy: 0.8094348435310602\n",
      "\n",
      "Classification Report:\n",
      "              precision    recall  f1-score   support\n",
      "\n",
      "           0       0.67      0.43      0.53      1576\n",
      "           1       0.84      0.93      0.88      4847\n",
      "\n",
      "    accuracy                           0.81      6423\n",
      "   macro avg       0.75      0.68      0.70      6423\n",
      "weighted avg       0.80      0.81      0.79      6423\n",
      "\n",
      "\n",
      "Confusion Matrix:\n",
      "[[ 684  892]\n",
      " [ 332 4515]]\n",
      "\n",
      "Feature Importances:\n",
      "Popularity: 0.979248675795227\n",
      "Number of Named Entities: 0.020751324204772943\n"
     ]
    }
   ],
   "source": [
    "scaler = StandardScaler()\n",
    "X_train_scaled = scaler.fit_transform(X_train)\n",
    "X_test_scaled = scaler.transform(X_test)\n",
    "\n",
    "clf = RandomForestClassifier(n_estimators=100, random_state=5)\n",
    "clf.fit(X_train_scaled, y_train)\n",
    "\n",
    "y_pred = clf.predict(X_test_scaled)\n",
    "\n",
    "accuracy = accuracy_score(y_test, y_pred)\n",
    "classification_rep = classification_report(y_test, y_pred)\n",
    "conf_matrix = confusion_matrix(y_test, y_pred)\n",
    "\n",
    "print(\"Accuracy:\", accuracy)\n",
    "print(\"\\nClassification Report:\")\n",
    "print(classification_rep)\n",
    "print(\"\\nConfusion Matrix:\")\n",
    "print(conf_matrix)\n",
    "\n",
    "feature_importances = clf.feature_importances_\n",
    "print(\"\\nFeature Importances:\")\n",
    "print(f\"Popularity: {feature_importances[0]}\")\n",
    "print(f\"Number of Named Entities: {feature_importances[1]}\")"
   ]
  },
  {
   "cell_type": "markdown",
   "id": "17f448d3-7dff-4a52-bc77-c9383fda0fd1",
   "metadata": {},
   "source": [
    "# USING ADABOOST DECISIONTREE"
   ]
  },
  {
   "cell_type": "code",
   "execution_count": 29,
   "id": "a1f4e8cf-345c-4d59-9648-b14d0c9df2f4",
   "metadata": {},
   "outputs": [
    {
     "name": "stderr",
     "output_type": "stream",
     "text": [
      "C:\\Users\\vemul\\anaconda3\\lib\\site-packages\\sklearn\\ensemble\\_base.py:156: FutureWarning: `base_estimator` was renamed to `estimator` in version 1.2 and will be removed in 1.4.\n",
      "  warnings.warn(\n"
     ]
    },
    {
     "name": "stdout",
     "output_type": "stream",
     "text": [
      "Accuracy: 0.7615600186828585\n",
      "\n",
      "Classification Report:\n",
      "              precision    recall  f1-score   support\n",
      "\n",
      "           0       0.90      0.04      0.07      1055\n",
      "           1       0.76      1.00      0.86      3227\n",
      "\n",
      "    accuracy                           0.76      4282\n",
      "   macro avg       0.83      0.52      0.47      4282\n",
      "weighted avg       0.80      0.76      0.67      4282\n",
      "\n",
      "\n",
      "Confusion Matrix:\n",
      "[[  38 1017]\n",
      " [   4 3223]]\n"
     ]
    }
   ],
   "source": [
    "from sklearn.model_selection import train_test_split, GridSearchCV\n",
    "from sklearn.preprocessing import StandardScaler\n",
    "from sklearn.ensemble import AdaBoostClassifier\n",
    "from sklearn.tree import DecisionTreeClassifier\n",
    "from sklearn.metrics import accuracy_score, classification_report, confusion_matrix\n",
    "\n",
    "X = df[['popularity', 'num_named_entities']]  # Features: popularity, number of named entities\n",
    "y = df['label_numeric']  # Target: real (1) or fake (0)\n",
    "\n",
    "X_train, X_test, y_train, y_test = train_test_split(X, y, test_size=0.2, random_state=42)\n",
    "\n",
    "scaler = StandardScaler()\n",
    "X_train_scaled = scaler.fit_transform(X_train)\n",
    "X_test_scaled = scaler.transform(X_test)\n",
    "\n",
    "base_estimator = DecisionTreeClassifier(max_depth=1)  # Shallow trees are typically used with AdaBoost\n",
    "adaboost = AdaBoostClassifier(base_estimator=base_estimator, random_state=42)\n",
    "\n",
    "class_weights = {0: 1, 1: 5}  \n",
    "# Giving more weight to the minority class (fake news, label=0)\n",
    "\n",
    "adaboost.fit(X_train_scaled, y_train, sample_weight=y_train.map(class_weights))\n",
    "\n",
    "y_pred = adaboost.predict(X_test_scaled)\n",
    "\n",
    "# Step 12: Evaluate the model\n",
    "accuracy = accuracy_score(y_test, y_pred)\n",
    "classification_rep = classification_report(y_test, y_pred)\n",
    "conf_matrix = confusion_matrix(y_test, y_pred)\n",
    "\n",
    "# Output the results\n",
    "print(\"Accuracy:\", accuracy)\n",
    "print(\"\\nClassification Report:\")\n",
    "print(classification_rep)\n",
    "print(\"\\nConfusion Matrix:\")\n",
    "print(conf_matrix)"
   ]
  },
  {
   "cell_type": "markdown",
   "id": "0c0822b1-68c3-49d6-9c0b-9e43e12c87b5",
   "metadata": {},
   "source": [
    "# LOGISTIC REGRESSION"
   ]
  },
  {
   "cell_type": "code",
   "execution_count": 30,
   "id": "504848f2-e75a-49af-8c3a-3ed156c9cf43",
   "metadata": {},
   "outputs": [
    {
     "name": "stderr",
     "output_type": "stream",
     "text": [
      "C:\\Users\\vemul\\AppData\\Local\\Temp\\ipykernel_14320\\813940774.py:8: SettingWithCopyWarning: \n",
      "A value is trying to be set on a copy of a slice from a DataFrame.\n",
      "Try using .loc[row_indexer,col_indexer] = value instead\n",
      "\n",
      "See the caveats in the documentation: https://pandas.pydata.org/pandas-docs/stable/user_guide/indexing.html#returning-a-view-versus-a-copy\n",
      "  df['label'] = df['label'].map({'fake': 0, 'real': 1})\n"
     ]
    },
    {
     "data": {
      "text/html": [
       "<style>#sk-container-id-1 {color: black;}#sk-container-id-1 pre{padding: 0;}#sk-container-id-1 div.sk-toggleable {background-color: white;}#sk-container-id-1 label.sk-toggleable__label {cursor: pointer;display: block;width: 100%;margin-bottom: 0;padding: 0.3em;box-sizing: border-box;text-align: center;}#sk-container-id-1 label.sk-toggleable__label-arrow:before {content: \"▸\";float: left;margin-right: 0.25em;color: #696969;}#sk-container-id-1 label.sk-toggleable__label-arrow:hover:before {color: black;}#sk-container-id-1 div.sk-estimator:hover label.sk-toggleable__label-arrow:before {color: black;}#sk-container-id-1 div.sk-toggleable__content {max-height: 0;max-width: 0;overflow: hidden;text-align: left;background-color: #f0f8ff;}#sk-container-id-1 div.sk-toggleable__content pre {margin: 0.2em;color: black;border-radius: 0.25em;background-color: #f0f8ff;}#sk-container-id-1 input.sk-toggleable__control:checked~div.sk-toggleable__content {max-height: 200px;max-width: 100%;overflow: auto;}#sk-container-id-1 input.sk-toggleable__control:checked~label.sk-toggleable__label-arrow:before {content: \"▾\";}#sk-container-id-1 div.sk-estimator input.sk-toggleable__control:checked~label.sk-toggleable__label {background-color: #d4ebff;}#sk-container-id-1 div.sk-label input.sk-toggleable__control:checked~label.sk-toggleable__label {background-color: #d4ebff;}#sk-container-id-1 input.sk-hidden--visually {border: 0;clip: rect(1px 1px 1px 1px);clip: rect(1px, 1px, 1px, 1px);height: 1px;margin: -1px;overflow: hidden;padding: 0;position: absolute;width: 1px;}#sk-container-id-1 div.sk-estimator {font-family: monospace;background-color: #f0f8ff;border: 1px dotted black;border-radius: 0.25em;box-sizing: border-box;margin-bottom: 0.5em;}#sk-container-id-1 div.sk-estimator:hover {background-color: #d4ebff;}#sk-container-id-1 div.sk-parallel-item::after {content: \"\";width: 100%;border-bottom: 1px solid gray;flex-grow: 1;}#sk-container-id-1 div.sk-label:hover label.sk-toggleable__label {background-color: #d4ebff;}#sk-container-id-1 div.sk-serial::before {content: \"\";position: absolute;border-left: 1px solid gray;box-sizing: border-box;top: 0;bottom: 0;left: 50%;z-index: 0;}#sk-container-id-1 div.sk-serial {display: flex;flex-direction: column;align-items: center;background-color: white;padding-right: 0.2em;padding-left: 0.2em;position: relative;}#sk-container-id-1 div.sk-item {position: relative;z-index: 1;}#sk-container-id-1 div.sk-parallel {display: flex;align-items: stretch;justify-content: center;background-color: white;position: relative;}#sk-container-id-1 div.sk-item::before, #sk-container-id-1 div.sk-parallel-item::before {content: \"\";position: absolute;border-left: 1px solid gray;box-sizing: border-box;top: 0;bottom: 0;left: 50%;z-index: -1;}#sk-container-id-1 div.sk-parallel-item {display: flex;flex-direction: column;z-index: 1;position: relative;background-color: white;}#sk-container-id-1 div.sk-parallel-item:first-child::after {align-self: flex-end;width: 50%;}#sk-container-id-1 div.sk-parallel-item:last-child::after {align-self: flex-start;width: 50%;}#sk-container-id-1 div.sk-parallel-item:only-child::after {width: 0;}#sk-container-id-1 div.sk-dashed-wrapped {border: 1px dashed gray;margin: 0 0.4em 0.5em 0.4em;box-sizing: border-box;padding-bottom: 0.4em;background-color: white;}#sk-container-id-1 div.sk-label label {font-family: monospace;font-weight: bold;display: inline-block;line-height: 1.2em;}#sk-container-id-1 div.sk-label-container {text-align: center;}#sk-container-id-1 div.sk-container {/* jupyter's `normalize.less` sets `[hidden] { display: none; }` but bootstrap.min.css set `[hidden] { display: none !important; }` so we also need the `!important` here to be able to override the default hidden behavior on the sphinx rendered scikit-learn.org. See: https://github.com/scikit-learn/scikit-learn/issues/21755 */display: inline-block !important;position: relative;}#sk-container-id-1 div.sk-text-repr-fallback {display: none;}</style><div id=\"sk-container-id-1\" class=\"sk-top-container\"><div class=\"sk-text-repr-fallback\"><pre>Pipeline(steps=[(&#x27;tfidfvectorizer&#x27;, TfidfVectorizer(max_features=5000)),\n",
       "                (&#x27;logisticregression&#x27;,\n",
       "                 LogisticRegression(class_weight=&#x27;balanced&#x27;, random_state=42))])</pre><b>In a Jupyter environment, please rerun this cell to show the HTML representation or trust the notebook. <br />On GitHub, the HTML representation is unable to render, please try loading this page with nbviewer.org.</b></div><div class=\"sk-container\" hidden><div class=\"sk-item sk-dashed-wrapped\"><div class=\"sk-label-container\"><div class=\"sk-label sk-toggleable\"><input class=\"sk-toggleable__control sk-hidden--visually\" id=\"sk-estimator-id-1\" type=\"checkbox\" ><label for=\"sk-estimator-id-1\" class=\"sk-toggleable__label sk-toggleable__label-arrow\">Pipeline</label><div class=\"sk-toggleable__content\"><pre>Pipeline(steps=[(&#x27;tfidfvectorizer&#x27;, TfidfVectorizer(max_features=5000)),\n",
       "                (&#x27;logisticregression&#x27;,\n",
       "                 LogisticRegression(class_weight=&#x27;balanced&#x27;, random_state=42))])</pre></div></div></div><div class=\"sk-serial\"><div class=\"sk-item\"><div class=\"sk-estimator sk-toggleable\"><input class=\"sk-toggleable__control sk-hidden--visually\" id=\"sk-estimator-id-2\" type=\"checkbox\" ><label for=\"sk-estimator-id-2\" class=\"sk-toggleable__label sk-toggleable__label-arrow\">TfidfVectorizer</label><div class=\"sk-toggleable__content\"><pre>TfidfVectorizer(max_features=5000)</pre></div></div></div><div class=\"sk-item\"><div class=\"sk-estimator sk-toggleable\"><input class=\"sk-toggleable__control sk-hidden--visually\" id=\"sk-estimator-id-3\" type=\"checkbox\" ><label for=\"sk-estimator-id-3\" class=\"sk-toggleable__label sk-toggleable__label-arrow\">LogisticRegression</label><div class=\"sk-toggleable__content\"><pre>LogisticRegression(class_weight=&#x27;balanced&#x27;, random_state=42)</pre></div></div></div></div></div></div></div>"
      ],
      "text/plain": [
       "Pipeline(steps=[('tfidfvectorizer', TfidfVectorizer(max_features=5000)),\n",
       "                ('logisticregression',\n",
       "                 LogisticRegression(class_weight='balanced', random_state=42))])"
      ]
     },
     "execution_count": 30,
     "metadata": {},
     "output_type": "execute_result"
    }
   ],
   "source": [
    "from sklearn.model_selection import train_test_split\n",
    "from sklearn.preprocessing import StandardScaler\n",
    "from sklearn.linear_model import LogisticRegression\n",
    "from sklearn.metrics import classification_report, confusion_matrix\n",
    "from sklearn.feature_extraction.text import TfidfVectorizer\n",
    "from sklearn.utils.class_weight import compute_class_weight\n",
    "from sklearn.pipeline import make_pipeline\n",
    "df['label'] = df['label'].map({'fake': 0, 'real': 1})\n",
    "\n",
    "# Split data into features (X) and target (y)\n",
    "X = df['title_clean']  # Using 'title_clean' as feature\n",
    "y = df['label']\n",
    "\n",
    "# Split the data into training and test sets\n",
    "X_train, X_test, y_train, y_test = train_test_split(X, y, test_size=0.3, random_state=42, stratify=y)\n",
    "\n",
    "# TF-IDF Vectorization: Convert text into numerical features\n",
    "vectorizer = TfidfVectorizer(max_features=5000)\n",
    "\n",
    "# Logistic Regression Model\n",
    "lr = LogisticRegression(class_weight='balanced', random_state=42)\n",
    "\n",
    "pipeline = make_pipeline(\n",
    "    TfidfVectorizer(max_features=5000),  # Convert text to TF-IDF features\n",
    "    LogisticRegression(class_weight='balanced', random_state=42)\n",
    ")\n",
    "\n",
    "# Fit the model\n",
    "pipeline.fit(X_train, y_train)\n",
    "# Make predictions on the test set\n",
    "\n"
   ]
  },
  {
   "cell_type": "code",
   "execution_count": 31,
   "id": "15212222-ce91-445f-8041-3ce199bcffb3",
   "metadata": {},
   "outputs": [
    {
     "name": "stdout",
     "output_type": "stream",
     "text": [
      "Classification Report:\n",
      "              precision    recall  f1-score   support\n",
      "\n",
      "           0       0.58      0.73      0.65      1586\n",
      "           1       0.90      0.83      0.86      4837\n",
      "\n",
      "    accuracy                           0.80      6423\n",
      "   macro avg       0.74      0.78      0.76      6423\n",
      "weighted avg       0.82      0.80      0.81      6423\n",
      "\n",
      "Confusion Matrix:\n",
      "[[1158  428]\n",
      " [ 834 4003]]\n",
      "Fitting 5 folds for each of 15 candidates, totalling 75 fits\n",
      "Best Parameters: {'logisticregression__C': 1, 'tfidfvectorizer__max_features': 10000}\n",
      "Classification Report (Tuned):\n",
      "              precision    recall  f1-score   support\n",
      "\n",
      "           0       0.59      0.72      0.65      1586\n",
      "           1       0.90      0.84      0.87      4837\n",
      "\n",
      "    accuracy                           0.81      6423\n",
      "   macro avg       0.75      0.78      0.76      6423\n",
      "weighted avg       0.82      0.81      0.81      6423\n",
      "\n"
     ]
    }
   ],
   "source": [
    "y_pred = pipeline.predict(X_test)\n",
    "\n",
    "# Classification report and confusion matrix\n",
    "print(\"Classification Report:\")\n",
    "print(classification_report(y_test, y_pred))\n",
    "\n",
    "print(\"Confusion Matrix:\")\n",
    "print(confusion_matrix(y_test, y_pred))\n",
    "from sklearn.model_selection import GridSearchCV\n",
    "\n",
    "# Hyperparameter tuning for Logistic Regression\n",
    "param_grid = {\n",
    "    'logisticregression__C': [0.01, 0.1, 1, 10, 100],\n",
    "    'tfidfvectorizer__max_features': [2000, 5000, 10000]\n",
    "}\n",
    "\n",
    "# Create the GridSearchCV\n",
    "grid_search = GridSearchCV(pipeline, param_grid, cv=5, n_jobs=-1, verbose=1)\n",
    "\n",
    "# Fit the grid search\n",
    "grid_search.fit(X_train, y_train)\n",
    "\n",
    "# Best parameters\n",
    "print(\"Best Parameters:\", grid_search.best_params_)\n",
    "\n",
    "# Evaluate the best model\n",
    "best_model = grid_search.best_estimator_\n",
    "y_pred_best = best_model.predict(X_test)\n",
    "\n",
    "print(\"Classification Report (Tuned):\")\n",
    "print(classification_report(y_test, y_pred_best))"
   ]
  },
  {
   "cell_type": "markdown",
   "id": "8011b5e1-67a5-43e7-913e-492837c3824a",
   "metadata": {},
   "source": [
    "# SUPPORT VECTOR MACHINE"
   ]
  },
  {
   "cell_type": "code",
   "execution_count": 32,
   "id": "a56b2b07-29b5-4054-9f64-e29421a318a8",
   "metadata": {},
   "outputs": [
    {
     "data": {
      "text/html": [
       "<style>#sk-container-id-2 {color: black;}#sk-container-id-2 pre{padding: 0;}#sk-container-id-2 div.sk-toggleable {background-color: white;}#sk-container-id-2 label.sk-toggleable__label {cursor: pointer;display: block;width: 100%;margin-bottom: 0;padding: 0.3em;box-sizing: border-box;text-align: center;}#sk-container-id-2 label.sk-toggleable__label-arrow:before {content: \"▸\";float: left;margin-right: 0.25em;color: #696969;}#sk-container-id-2 label.sk-toggleable__label-arrow:hover:before {color: black;}#sk-container-id-2 div.sk-estimator:hover label.sk-toggleable__label-arrow:before {color: black;}#sk-container-id-2 div.sk-toggleable__content {max-height: 0;max-width: 0;overflow: hidden;text-align: left;background-color: #f0f8ff;}#sk-container-id-2 div.sk-toggleable__content pre {margin: 0.2em;color: black;border-radius: 0.25em;background-color: #f0f8ff;}#sk-container-id-2 input.sk-toggleable__control:checked~div.sk-toggleable__content {max-height: 200px;max-width: 100%;overflow: auto;}#sk-container-id-2 input.sk-toggleable__control:checked~label.sk-toggleable__label-arrow:before {content: \"▾\";}#sk-container-id-2 div.sk-estimator input.sk-toggleable__control:checked~label.sk-toggleable__label {background-color: #d4ebff;}#sk-container-id-2 div.sk-label input.sk-toggleable__control:checked~label.sk-toggleable__label {background-color: #d4ebff;}#sk-container-id-2 input.sk-hidden--visually {border: 0;clip: rect(1px 1px 1px 1px);clip: rect(1px, 1px, 1px, 1px);height: 1px;margin: -1px;overflow: hidden;padding: 0;position: absolute;width: 1px;}#sk-container-id-2 div.sk-estimator {font-family: monospace;background-color: #f0f8ff;border: 1px dotted black;border-radius: 0.25em;box-sizing: border-box;margin-bottom: 0.5em;}#sk-container-id-2 div.sk-estimator:hover {background-color: #d4ebff;}#sk-container-id-2 div.sk-parallel-item::after {content: \"\";width: 100%;border-bottom: 1px solid gray;flex-grow: 1;}#sk-container-id-2 div.sk-label:hover label.sk-toggleable__label {background-color: #d4ebff;}#sk-container-id-2 div.sk-serial::before {content: \"\";position: absolute;border-left: 1px solid gray;box-sizing: border-box;top: 0;bottom: 0;left: 50%;z-index: 0;}#sk-container-id-2 div.sk-serial {display: flex;flex-direction: column;align-items: center;background-color: white;padding-right: 0.2em;padding-left: 0.2em;position: relative;}#sk-container-id-2 div.sk-item {position: relative;z-index: 1;}#sk-container-id-2 div.sk-parallel {display: flex;align-items: stretch;justify-content: center;background-color: white;position: relative;}#sk-container-id-2 div.sk-item::before, #sk-container-id-2 div.sk-parallel-item::before {content: \"\";position: absolute;border-left: 1px solid gray;box-sizing: border-box;top: 0;bottom: 0;left: 50%;z-index: -1;}#sk-container-id-2 div.sk-parallel-item {display: flex;flex-direction: column;z-index: 1;position: relative;background-color: white;}#sk-container-id-2 div.sk-parallel-item:first-child::after {align-self: flex-end;width: 50%;}#sk-container-id-2 div.sk-parallel-item:last-child::after {align-self: flex-start;width: 50%;}#sk-container-id-2 div.sk-parallel-item:only-child::after {width: 0;}#sk-container-id-2 div.sk-dashed-wrapped {border: 1px dashed gray;margin: 0 0.4em 0.5em 0.4em;box-sizing: border-box;padding-bottom: 0.4em;background-color: white;}#sk-container-id-2 div.sk-label label {font-family: monospace;font-weight: bold;display: inline-block;line-height: 1.2em;}#sk-container-id-2 div.sk-label-container {text-align: center;}#sk-container-id-2 div.sk-container {/* jupyter's `normalize.less` sets `[hidden] { display: none; }` but bootstrap.min.css set `[hidden] { display: none !important; }` so we also need the `!important` here to be able to override the default hidden behavior on the sphinx rendered scikit-learn.org. See: https://github.com/scikit-learn/scikit-learn/issues/21755 */display: inline-block !important;position: relative;}#sk-container-id-2 div.sk-text-repr-fallback {display: none;}</style><div id=\"sk-container-id-2\" class=\"sk-top-container\"><div class=\"sk-text-repr-fallback\"><pre>Pipeline(steps=[(&#x27;tfidfvectorizer&#x27;, TfidfVectorizer(max_features=5000)),\n",
       "                (&#x27;svc&#x27;,\n",
       "                 SVC(class_weight=&#x27;balanced&#x27;, kernel=&#x27;linear&#x27;,\n",
       "                     random_state=42))])</pre><b>In a Jupyter environment, please rerun this cell to show the HTML representation or trust the notebook. <br />On GitHub, the HTML representation is unable to render, please try loading this page with nbviewer.org.</b></div><div class=\"sk-container\" hidden><div class=\"sk-item sk-dashed-wrapped\"><div class=\"sk-label-container\"><div class=\"sk-label sk-toggleable\"><input class=\"sk-toggleable__control sk-hidden--visually\" id=\"sk-estimator-id-4\" type=\"checkbox\" ><label for=\"sk-estimator-id-4\" class=\"sk-toggleable__label sk-toggleable__label-arrow\">Pipeline</label><div class=\"sk-toggleable__content\"><pre>Pipeline(steps=[(&#x27;tfidfvectorizer&#x27;, TfidfVectorizer(max_features=5000)),\n",
       "                (&#x27;svc&#x27;,\n",
       "                 SVC(class_weight=&#x27;balanced&#x27;, kernel=&#x27;linear&#x27;,\n",
       "                     random_state=42))])</pre></div></div></div><div class=\"sk-serial\"><div class=\"sk-item\"><div class=\"sk-estimator sk-toggleable\"><input class=\"sk-toggleable__control sk-hidden--visually\" id=\"sk-estimator-id-5\" type=\"checkbox\" ><label for=\"sk-estimator-id-5\" class=\"sk-toggleable__label sk-toggleable__label-arrow\">TfidfVectorizer</label><div class=\"sk-toggleable__content\"><pre>TfidfVectorizer(max_features=5000)</pre></div></div></div><div class=\"sk-item\"><div class=\"sk-estimator sk-toggleable\"><input class=\"sk-toggleable__control sk-hidden--visually\" id=\"sk-estimator-id-6\" type=\"checkbox\" ><label for=\"sk-estimator-id-6\" class=\"sk-toggleable__label sk-toggleable__label-arrow\">SVC</label><div class=\"sk-toggleable__content\"><pre>SVC(class_weight=&#x27;balanced&#x27;, kernel=&#x27;linear&#x27;, random_state=42)</pre></div></div></div></div></div></div></div>"
      ],
      "text/plain": [
       "Pipeline(steps=[('tfidfvectorizer', TfidfVectorizer(max_features=5000)),\n",
       "                ('svc',\n",
       "                 SVC(class_weight='balanced', kernel='linear',\n",
       "                     random_state=42))])"
      ]
     },
     "execution_count": 32,
     "metadata": {},
     "output_type": "execute_result"
    }
   ],
   "source": [
    "import pandas as pd\n",
    "from sklearn.model_selection import train_test_split\n",
    "from sklearn.svm import SVC\n",
    "from sklearn.metrics import classification_report, confusion_matrix\n",
    "from sklearn.feature_extraction.text import TfidfVectorizer\n",
    "from sklearn.pipeline import make_pipeline\n",
    "from sklearn.preprocessing import StandardScaler\n",
    "\n",
    "# Create a pipeline with TF-IDF and SVM\n",
    "pipeline = make_pipeline(\n",
    "    TfidfVectorizer(max_features=5000),  # Convert text to TF-IDF features\n",
    "    SVC(kernel='linear', class_weight='balanced', random_state=42)\n",
    ")\n",
    "\n",
    "# Fit the model\n",
    "pipeline.fit(X_train, y_train)\n"
   ]
  },
  {
   "cell_type": "code",
   "execution_count": 33,
   "id": "d925071f-e8d2-4333-b13b-232aa772e984",
   "metadata": {},
   "outputs": [
    {
     "name": "stdout",
     "output_type": "stream",
     "text": [
      "Classification Report:\n",
      "              precision    recall  f1-score   support\n",
      "\n",
      "           0       0.55      0.74      0.63      1586\n",
      "           1       0.90      0.81      0.85      4837\n",
      "\n",
      "    accuracy                           0.79      6423\n",
      "   macro avg       0.73      0.77      0.74      6423\n",
      "weighted avg       0.82      0.79      0.80      6423\n",
      "\n",
      "Confusion Matrix:\n",
      "[[1170  416]\n",
      " [ 943 3894]]\n"
     ]
    }
   ],
   "source": [
    "# Make predictions on the test set\n",
    "y_pred = pipeline.predict(X_test)\n",
    "\n",
    "# Classification report and confusion matrix\n",
    "print(\"Classification Report:\")\n",
    "print(classification_report(y_test, y_pred))\n",
    "\n",
    "print(\"Confusion Matrix:\")\n",
    "print(confusion_matrix(y_test, y_pred))\n"
   ]
  },
  {
   "cell_type": "code",
   "execution_count": 34,
   "id": "a1586abf-a5f2-4bb4-b0ec-9f201dbac144",
   "metadata": {},
   "outputs": [
    {
     "name": "stdout",
     "output_type": "stream",
     "text": [
      "Fitting 5 folds for each of 24 candidates, totalling 120 fits\n",
      "Best Parameters: {'svc__C': 10, 'svc__kernel': 'rbf', 'tfidfvectorizer__max_features': 10000}\n",
      "Classification Report (Tuned):\n",
      "              precision    recall  f1-score   support\n",
      "\n",
      "           0       0.74      0.55      0.63      1586\n",
      "           1       0.86      0.94      0.90      4837\n",
      "\n",
      "    accuracy                           0.84      6423\n",
      "   macro avg       0.80      0.74      0.77      6423\n",
      "weighted avg       0.83      0.84      0.83      6423\n",
      "\n"
     ]
    }
   ],
   "source": [
    "from sklearn.model_selection import GridSearchCV\n",
    "\n",
    "# Hyperparameter tuning for SVM\n",
    "param_grid = {\n",
    "    'svc__C': [0.1, 1, 10, 100],  # Regularization parameter\n",
    "    'svc__kernel': ['linear', 'rbf'],  # Kernel type\n",
    "    'tfidfvectorizer__max_features': [2000, 5000, 10000]  # Features in TF-IDF\n",
    "}\n",
    "\n",
    "# Create GridSearchCV for model selection\n",
    "grid_search = GridSearchCV(pipeline, param_grid, cv=5, n_jobs=-1, verbose=1)\n",
    "\n",
    "# Fit the grid search\n",
    "grid_search.fit(X_train, y_train)\n",
    "\n",
    "# Best parameters\n",
    "print(\"Best Parameters:\", grid_search.best_params_)\n",
    "\n",
    "# Evaluate the best model\n",
    "best_model = grid_search.best_estimator_\n",
    "y_pred_best = best_model.predict(X_test)\n",
    "\n",
    "print(\"Classification Report (Tuned):\")\n",
    "print(classification_report(y_test, y_pred_best))\n"
   ]
  },
  {
   "cell_type": "code",
   "execution_count": null,
   "id": "b57dc2b0-a9e8-403b-9e96-1e3572757225",
   "metadata": {},
   "outputs": [],
   "source": [
    "`"
   ]
  }
 ],
 "metadata": {
  "kernelspec": {
   "display_name": "Python 3 (ipykernel)",
   "language": "python",
   "name": "python3"
  },
  "language_info": {
   "codemirror_mode": {
    "name": "ipython",
    "version": 3
   },
   "file_extension": ".py",
   "mimetype": "text/x-python",
   "name": "python",
   "nbconvert_exporter": "python",
   "pygments_lexer": "ipython3",
   "version": "3.10.13"
  }
 },
 "nbformat": 4,
 "nbformat_minor": 5
}
